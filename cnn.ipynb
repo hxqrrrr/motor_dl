{
 "cells": [
  {
   "cell_type": "code",
   "execution_count": 1,
   "id": "0ad9210f",
   "metadata": {},
   "outputs": [
    {
     "name": "stdout",
     "output_type": "stream",
     "text": [
      "# packages in environment at d:\\anaconda\\envs\\hf:\n",
      "Note: you may need to restart the kernel to use updated packages.\n",
      "\n",
      "#\n",
      "# Name                    Version                   Build  Channel\n",
      "_openmp_mutex             4.5                       2_gnu    conda-forge\n",
      "_tflow_select             2.3.0                       mkl  \n",
      "absl-py                   2.1.0              pyhd8ed1ab_0    conda-forge\n",
      "accelerate                1.0.0                    pypi_0    pypi\n",
      "aiohappyeyeballs          2.4.3              pyhd8ed1ab_0    conda-forge\n",
      "aiohttp                   3.10.9          py310ha8f682b_0    conda-forge\n",
      "aiosignal                 1.3.1              pyhd8ed1ab_0    conda-forge\n",
      "anyio                     4.6.0              pyhd8ed1ab_1    conda-forge\n",
      "argon2-cffi               23.1.0             pyhd8ed1ab_0    conda-forge\n",
      "argon2-cffi-bindings      21.2.0          py310ha8f682b_5    conda-forge\n",
      "arrow                     1.3.0              pyhd8ed1ab_0    conda-forge\n",
      "asttokens                 2.4.1              pyhd8ed1ab_0    conda-forge\n",
      "astunparse                1.6.3              pyhd8ed1ab_0    conda-forge\n",
      "async-lru                 2.0.4              pyhd8ed1ab_0    conda-forge\n",
      "async-timeout             4.0.3              pyhd8ed1ab_0    conda-forge\n",
      "attrs                     24.2.0             pyh71513ae_0    conda-forge\n",
      "babel                     2.14.0             pyhd8ed1ab_0    conda-forge\n",
      "beautifulsoup4            4.12.3             pyha770c72_0    conda-forge\n",
      "blas                      2.124                       mkl    conda-forge\n",
      "blas-devel                3.9.0              24_win64_mkl    conda-forge\n",
      "bleach                    6.1.0              pyhd8ed1ab_0    conda-forge\n",
      "blinker                   1.8.2              pyhd8ed1ab_0    conda-forge\n",
      "brotli                    1.1.0                h2466b09_2    conda-forge\n",
      "brotli-bin                1.1.0                h2466b09_2    conda-forge\n",
      "brotli-python             1.1.0           py310h9e98ed7_2    conda-forge\n",
      "bzip2                     1.0.8                h2466b09_7    conda-forge\n",
      "c-ares                    1.33.1               h2466b09_0    conda-forge\n",
      "ca-certificates           2024.8.30            h56e8100_0    conda-forge\n",
      "cached-property           1.5.2                hd8ed1ab_1    conda-forge\n",
      "cached_property           1.5.2              pyha770c72_1    conda-forge\n",
      "cachetools                5.5.0              pyhd8ed1ab_0    conda-forge\n",
      "certifi                   2024.8.30          pyhd8ed1ab_0    conda-forge\n",
      "cffi                      1.17.1          py310ha8f682b_0    conda-forge\n",
      "charset-normalizer        3.3.2              pyhd8ed1ab_0    conda-forge\n",
      "click                     8.1.7           win_pyh7428d3b_0    conda-forge\n",
      "colorama                  0.4.6              pyhd8ed1ab_0    conda-forge\n",
      "comm                      0.2.2              pyhd8ed1ab_0    conda-forge\n",
      "contourpy                 1.3.0           py310hc19bc0b_2    conda-forge\n",
      "cryptography              39.0.0          py310h52f42fa_0    conda-forge\n",
      "cuda-cccl                 12.6.77                       0    nvidia\n",
      "cuda-cccl_win-64          12.6.77                       0    nvidia\n",
      "cuda-cudart               11.8.89                       0    nvidia\n",
      "cuda-cudart-dev           11.8.89                       0    nvidia\n",
      "cuda-cupti                11.8.87                       0    nvidia\n",
      "cuda-libraries            11.8.0                        0    nvidia\n",
      "cuda-libraries-dev        11.8.0                        0    nvidia\n",
      "cuda-nvrtc                11.8.89                       0    nvidia\n",
      "cuda-nvrtc-dev            11.8.89                       0    nvidia\n",
      "cuda-nvtx                 11.8.86                       0    nvidia\n",
      "cuda-profiler-api         12.6.77                       0    nvidia\n",
      "cuda-runtime              11.8.0                        0    nvidia\n",
      "cuda-version              12.6                          3    nvidia\n",
      "cycler                    0.12.1             pyhd8ed1ab_0    conda-forge\n",
      "datasets                  3.0.1                    pypi_0    pypi\n",
      "debugpy                   1.8.6           py310h9e98ed7_0    conda-forge\n",
      "decorator                 5.1.1              pyhd8ed1ab_0    conda-forge\n",
      "defusedxml                0.7.1              pyhd8ed1ab_0    conda-forge\n",
      "dill                      0.3.8                    pypi_0    pypi\n",
      "eigen                     3.4.0                h91493d7_0    conda-forge\n",
      "entrypoints               0.4                pyhd8ed1ab_0    conda-forge\n",
      "evaluate                  0.4.3                    pypi_0    pypi\n",
      "exceptiongroup            1.2.2              pyhd8ed1ab_0    conda-forge\n",
      "executing                 2.1.0              pyhd8ed1ab_0    conda-forge\n",
      "ffmpeg                    4.2.3                ha925a31_0    conda-forge\n",
      "filelock                  3.16.1             pyhd8ed1ab_0    conda-forge\n",
      "flatbuffers               24.3.25              h63175ca_0    conda-forge\n",
      "fonttools                 4.54.1          py310ha8f682b_0    conda-forge\n",
      "fqdn                      1.5.1              pyhd8ed1ab_0    conda-forge\n",
      "freetype                  2.12.1               hdaf720e_2    conda-forge\n",
      "frozenlist                1.4.1           py310ha8f682b_1    conda-forge\n",
      "fsspec                    2024.6.1                 pypi_0    pypi\n",
      "gast                      0.4.0              pyh9f0ad1d_0    conda-forge\n",
      "gettext                   0.22.5               h5728263_3    conda-forge\n",
      "gettext-tools             0.22.5               h5a7288d_3    conda-forge\n",
      "giflib                    5.2.2                h64bf75a_0    conda-forge\n",
      "glib                      2.80.2               h0df6a38_0    conda-forge\n",
      "glib-tools                2.80.2               h2f9d560_0    conda-forge\n",
      "google-auth               2.35.0             pyhff2d567_0    conda-forge\n",
      "google-auth-oauthlib      0.4.6              pyhd8ed1ab_0    conda-forge\n",
      "google-pasta              0.2.0              pyhd8ed1ab_1    conda-forge\n",
      "grpc-cpp                  1.48.1               hcb02dd0_1    conda-forge\n",
      "grpcio                    1.48.1          py310h1177ea7_1    conda-forge\n",
      "gst-plugins-base          1.18.5               he07aa86_3    conda-forge\n",
      "gstreamer                 1.18.5               hdff456e_3    conda-forge\n",
      "h11                       0.14.0             pyhd8ed1ab_0    conda-forge\n",
      "h2                        4.1.0              pyhd8ed1ab_0    conda-forge\n",
      "h5py                      3.7.0           nompi_py310h00cbb18_100    conda-forge\n",
      "hdf5                      1.12.1          nompi_h2a0e4a3_104    conda-forge\n",
      "hpack                     4.0.0              pyh9f0ad1d_0    conda-forge\n",
      "httpcore                  1.0.6              pyhd8ed1ab_0    conda-forge\n",
      "httpx                     0.27.2             pyhd8ed1ab_0    conda-forge\n",
      "huggingface-hub           0.25.2                   pypi_0    pypi\n",
      "hyperframe                6.0.1              pyhd8ed1ab_0    conda-forge\n",
      "icu                       58.2                 ha925a31_3  \n",
      "idna                      3.10               pyhd8ed1ab_0    conda-forge\n",
      "importlib-metadata        8.5.0              pyha770c72_0    conda-forge\n",
      "importlib_metadata        8.5.0                hd8ed1ab_0    conda-forge\n",
      "importlib_resources       6.4.5              pyhd8ed1ab_0    conda-forge\n",
      "intel-openmp              2024.2.1          h57928b3_1083    conda-forge\n",
      "ipykernel                 6.29.5             pyh4bbf305_0    conda-forge\n",
      "ipython                   8.28.0             pyh7428d3b_0    conda-forge\n",
      "ipywidgets                8.1.5              pyhd8ed1ab_0    conda-forge\n",
      "isoduration               20.11.0            pyhd8ed1ab_0    conda-forge\n",
      "jedi                      0.19.1             pyhd8ed1ab_0    conda-forge\n",
      "jinja2                    3.1.4              pyhd8ed1ab_0    conda-forge\n",
      "joblib                    1.4.2              pyhd8ed1ab_0    conda-forge\n",
      "jpeg                      9e                   h8ffe710_2    conda-forge\n",
      "json5                     0.9.25             pyhd8ed1ab_0    conda-forge\n",
      "jsonpointer               3.0.0           py310h5588dad_1    conda-forge\n",
      "jsonschema                4.23.0             pyhd8ed1ab_0    conda-forge\n",
      "jsonschema-specifications 2024.10.1          pyhd8ed1ab_0    conda-forge\n",
      "jsonschema-with-format-nongpl 4.23.0               hd8ed1ab_0    conda-forge\n",
      "jupyter                   1.1.1              pyhd8ed1ab_0    conda-forge\n",
      "jupyter-lsp               2.2.5              pyhd8ed1ab_0    conda-forge\n",
      "jupyter_client            8.6.3              pyhd8ed1ab_0    conda-forge\n",
      "jupyter_console           6.6.3              pyhd8ed1ab_0    conda-forge\n",
      "jupyter_core              5.7.2           py310h5588dad_0    conda-forge\n",
      "jupyter_events            0.10.0             pyhd8ed1ab_0    conda-forge\n",
      "jupyter_server            2.14.2             pyhd8ed1ab_0    conda-forge\n",
      "jupyter_server_terminals  0.5.3              pyhd8ed1ab_0    conda-forge\n",
      "jupyterlab                4.2.5              pyhd8ed1ab_0    conda-forge\n",
      "jupyterlab_pygments       0.3.0              pyhd8ed1ab_1    conda-forge\n",
      "jupyterlab_server         2.27.3             pyhd8ed1ab_0    conda-forge\n",
      "jupyterlab_widgets        3.0.13             pyhd8ed1ab_0    conda-forge\n",
      "keras                     2.10.0             pyhd8ed1ab_0    conda-forge\n",
      "kiwisolver                1.4.7           py310hc19bc0b_0    conda-forge\n",
      "krb5                      1.20.1               h6609f42_0    conda-forge\n",
      "lcms2                     2.15                 ha5c8aab_0    conda-forge\n",
      "lerc                      4.0.0                h63175ca_0    conda-forge\n",
      "libabseil                 20220623.0      cxx17_h1a56200_6    conda-forge\n",
      "libasprintf               0.22.5               h5728263_3    conda-forge\n",
      "libasprintf-devel         0.22.5               h5728263_3    conda-forge\n",
      "libblas                   3.9.0              24_win64_mkl    conda-forge\n",
      "libbrotlicommon           1.1.0                h2466b09_2    conda-forge\n",
      "libbrotlidec              1.1.0                h2466b09_2    conda-forge\n",
      "libbrotlienc              1.1.0                h2466b09_2    conda-forge\n",
      "libcblas                  3.9.0              24_win64_mkl    conda-forge\n",
      "libclang                  14.0.6          default_h77d9078_1    conda-forge\n",
      "libclang13                14.0.6          default_h77d9078_1    conda-forge\n",
      "libcublas                 11.11.3.6                     0    nvidia\n",
      "libcublas-dev             11.11.3.6                     0    nvidia\n",
      "libcufft                  10.9.0.58                     0    nvidia\n",
      "libcufft-dev              10.9.0.58                     0    nvidia\n",
      "libcurand                 10.3.7.77                     0    nvidia\n",
      "libcurand-dev             10.3.7.77                     0    nvidia\n",
      "libcurl                   8.1.2                h68f0423_0    conda-forge\n",
      "libcusolver               11.4.1.48                     0    nvidia\n",
      "libcusolver-dev           11.4.1.48                     0    nvidia\n",
      "libcusparse               11.7.5.86                     0    nvidia\n",
      "libcusparse-dev           11.7.5.86                     0    nvidia\n",
      "libdeflate                1.22                 h2466b09_0    conda-forge\n",
      "libffi                    3.4.2                h8ffe710_5    conda-forge\n",
      "libgcc                    14.1.0               h1383e82_1    conda-forge\n",
      "libgettextpo              0.22.5               h5728263_3    conda-forge\n",
      "libgettextpo-devel        0.22.5               h5728263_3    conda-forge\n",
      "libgfortran               14.1.0               h719f0c7_1    conda-forge\n",
      "libgfortran5              14.1.0               hf275ef4_1    conda-forge\n",
      "libglib                   2.80.2               h0df6a38_0    conda-forge\n",
      "libgomp                   14.1.0               h1383e82_1    conda-forge\n",
      "libiconv                  1.17                 hcfcfb64_2    conda-forge\n",
      "libintl                   0.22.5               h5728263_3    conda-forge\n",
      "libintl-devel             0.22.5               h5728263_3    conda-forge\n",
      "libjpeg-turbo             2.1.4                hcfcfb64_0    conda-forge\n",
      "liblapack                 3.9.0              24_win64_mkl    conda-forge\n",
      "liblapacke                3.9.0              24_win64_mkl    conda-forge\n",
      "libnpp                    11.8.0.86                     0    nvidia\n",
      "libnpp-dev                11.8.0.86                     0    nvidia\n",
      "libnvjpeg                 11.9.0.86                     0    nvidia\n",
      "libnvjpeg-dev             11.9.0.86                     0    nvidia\n",
      "libogg                    1.3.5                h2466b09_0    conda-forge\n",
      "libpng                    1.6.43               h19919ed_0    conda-forge\n",
      "libpq                     12.15                hb652d5d_1  \n",
      "libprotobuf               3.20.3               h12be248_0    conda-forge\n",
      "libsodium                 1.0.18               h8d14728_1    conda-forge\n",
      "libsqlite                 3.46.1               h2466b09_0    conda-forge\n",
      "libssh2                   1.10.0               h680486a_3    conda-forge\n",
      "libtiff                   4.5.0                h8a3f274_0  \n",
      "libuv                     1.49.0               h2466b09_0    conda-forge\n",
      "libvorbis                 1.3.7                h0e60522_0    conda-forge\n",
      "libwebp                   1.4.0                h2466b09_0    conda-forge\n",
      "libwebp-base              1.4.0                hcfcfb64_0    conda-forge\n",
      "libwinpthread             12.0.0.r4.gg4f2fc60ca      h57928b3_8    conda-forge\n",
      "libxcb                    1.17.0               h0e4246c_0    conda-forge\n",
      "libxml2                   2.10.4               hc3477c8_0    conda-forge\n",
      "libxslt                   1.1.37               h0192164_0    conda-forge\n",
      "libzlib                   1.2.13               h2466b09_6    conda-forge\n",
      "markdown                  3.6                pyhd8ed1ab_0    conda-forge\n",
      "markupsafe                3.0.1           py310ha8f682b_0    conda-forge\n",
      "matplotlib-base           3.9.2           py310h37e0a56_1    conda-forge\n",
      "matplotlib-inline         0.1.7              pyhd8ed1ab_0    conda-forge\n",
      "mistune                   3.0.2              pyhd8ed1ab_0    conda-forge\n",
      "mkl                       2024.1.0           h66d3029_694    conda-forge\n",
      "mkl-devel                 2024.1.0           h57928b3_694    conda-forge\n",
      "mkl-include               2024.1.0           h66d3029_694    conda-forge\n",
      "mpmath                    1.3.0              pyhd8ed1ab_0    conda-forge\n",
      "multidict                 6.1.0           py310ha8f682b_0    conda-forge\n",
      "multiprocess              0.70.16                  pypi_0    pypi\n",
      "munkres                   1.1.4              pyh9f0ad1d_0    conda-forge\n",
      "nbclient                  0.10.0             pyhd8ed1ab_0    conda-forge\n",
      "nbconvert-core            7.16.4             pyhd8ed1ab_1    conda-forge\n",
      "nbformat                  5.10.4             pyhd8ed1ab_0    conda-forge\n",
      "nest-asyncio              1.6.0              pyhd8ed1ab_0    conda-forge\n",
      "networkx                  3.3                pyhd8ed1ab_1    conda-forge\n",
      "notebook                  7.2.2              pyhd8ed1ab_0    conda-forge\n",
      "notebook-shim             0.2.4              pyhd8ed1ab_0    conda-forge\n",
      "numpy                     1.23.5          py310h4a8f9c9_0    conda-forge\n",
      "oauthlib                  3.2.2              pyhd8ed1ab_0    conda-forge\n",
      "opencv                    4.6.0           py310ha36de5b_5  \n",
      "openjpeg                  2.5.0                ha2aaf27_2    conda-forge\n",
      "openssl                   1.1.1w               hcfcfb64_0    conda-forge\n",
      "opt_einsum                3.4.0              pyhd8ed1ab_0    conda-forge\n",
      "overrides                 7.7.0              pyhd8ed1ab_0    conda-forge\n",
      "packaging                 24.1               pyhd8ed1ab_0    conda-forge\n",
      "pandas                    2.2.3           py310hb4db72f_1    conda-forge\n",
      "pandocfilters             1.5.0              pyhd8ed1ab_0    conda-forge\n",
      "parso                     0.8.4              pyhd8ed1ab_0    conda-forge\n",
      "patsy                     0.5.6              pyhd8ed1ab_0    conda-forge\n",
      "pcre2                     10.43                h17e33f8_0    conda-forge\n",
      "pickleshare               0.7.5                   py_1003    conda-forge\n",
      "pillow                    10.4.0          py310h827c3e9_0  \n",
      "pip                       24.2               pyh8b19718_1    conda-forge\n",
      "pkgutil-resolve-name      1.3.10             pyhd8ed1ab_1    conda-forge\n",
      "platformdirs              4.3.6              pyhd8ed1ab_0    conda-forge\n",
      "prometheus_client         0.21.0             pyhd8ed1ab_0    conda-forge\n",
      "prompt-toolkit            3.0.48             pyha770c72_0    conda-forge\n",
      "prompt_toolkit            3.0.48               hd8ed1ab_0    conda-forge\n",
      "protobuf                  3.20.3          py310h5588dad_1    conda-forge\n",
      "psutil                    6.0.0           py310ha8f682b_1    conda-forge\n",
      "pthread-stubs             0.4               h0e40799_1002    conda-forge\n",
      "pure_eval                 0.2.3              pyhd8ed1ab_0    conda-forge\n",
      "pyarrow                   17.0.0                   pypi_0    pypi\n",
      "pyasn1                    0.6.1              pyhd8ed1ab_1    conda-forge\n",
      "pyasn1-modules            0.4.1              pyhd8ed1ab_0    conda-forge\n",
      "pycparser                 2.22               pyhd8ed1ab_0    conda-forge\n",
      "pygments                  2.18.0             pyhd8ed1ab_0    conda-forge\n",
      "pyjwt                     2.9.0              pyhd8ed1ab_1    conda-forge\n",
      "pyopenssl                 23.2.0             pyhd8ed1ab_1    conda-forge\n",
      "pyparsing                 3.1.4              pyhd8ed1ab_0    conda-forge\n",
      "pysocks                   1.7.1              pyh0701188_6    conda-forge\n",
      "python                    3.10.8          h0269646_0_cpython    conda-forge\n",
      "python-dateutil           2.9.0              pyhd8ed1ab_0    conda-forge\n",
      "python-fastjsonschema     2.20.0             pyhd8ed1ab_0    conda-forge\n",
      "python-flatbuffers        24.3.25            pyh59ac667_0    conda-forge\n",
      "python-json-logger        2.0.7              pyhd8ed1ab_0    conda-forge\n",
      "python-tzdata             2024.2             pyhd8ed1ab_0    conda-forge\n",
      "python_abi                3.10                    5_cp310    conda-forge\n",
      "pytorch                   2.1.2           py3.10_cuda11.8_cudnn8_0    pytorch\n",
      "pytorch-cuda              11.8                 h24eeafa_5    pytorch\n",
      "pytorch-mutex             1.0                        cuda    pytorch\n",
      "pytz                      2024.1             pyhd8ed1ab_0    conda-forge\n",
      "pyu2f                     0.1.5              pyhd8ed1ab_0    conda-forge\n",
      "pywin32                   306             py310h00ffb61_2    conda-forge\n",
      "pywinpty                  2.0.13          py310h9e98ed7_1    conda-forge\n",
      "pyyaml                    6.0.2           py310ha8f682b_1    conda-forge\n",
      "pyzmq                     26.2.0          py310h656833d_1    conda-forge\n",
      "qhull                     2020.2               hc790b64_5    conda-forge\n",
      "qt-main                   5.15.2               h6072711_9  \n",
      "qt-webengine              5.15.9               h5bd16bc_7  \n",
      "qtwebkit                  5.212                h2bbfb41_5  \n",
      "re2                       2022.06.01           h0e60522_1    conda-forge\n",
      "referencing               0.35.1             pyhd8ed1ab_0    conda-forge\n",
      "regex                     2024.9.11                pypi_0    pypi\n",
      "requests                  2.32.3             pyhd8ed1ab_0    conda-forge\n",
      "requests-oauthlib         2.0.0              pyhd8ed1ab_0    conda-forge\n",
      "rfc3339-validator         0.1.4              pyhd8ed1ab_0    conda-forge\n",
      "rfc3986-validator         0.1.1              pyh9f0ad1d_0    conda-forge\n",
      "rpds-py                   0.20.0          py310hc226416_1    conda-forge\n",
      "rsa                       4.9                pyhd8ed1ab_0    conda-forge\n",
      "safetensors               0.4.5                    pypi_0    pypi\n",
      "scikit-learn              1.5.2           py310hf2a6c47_1    conda-forge\n",
      "scipy                     1.14.1          py310h46043a1_0    conda-forge\n",
      "seaborn                   0.13.2               hd8ed1ab_2    conda-forge\n",
      "seaborn-base              0.13.2             pyhd8ed1ab_2    conda-forge\n",
      "send2trash                1.8.3              pyh5737063_0    conda-forge\n",
      "setuptools                75.1.0             pyhd8ed1ab_0    conda-forge\n",
      "six                       1.16.0             pyh6c4a22f_0    conda-forge\n",
      "snappy                    1.2.1                h23299a8_0    conda-forge\n",
      "sniffio                   1.3.1              pyhd8ed1ab_0    conda-forge\n",
      "soupsieve                 2.5                pyhd8ed1ab_1    conda-forge\n",
      "sqlite                    3.46.1               h2466b09_0    conda-forge\n",
      "stack_data                0.6.2              pyhd8ed1ab_0    conda-forge\n",
      "statsmodels               0.14.4          py310hb0944cc_0    conda-forge\n",
      "sympy                     1.13.3             pyh04b8f61_3    conda-forge\n",
      "tbb                       2021.7.0             h91493d7_0    conda-forge\n",
      "tensorboard               2.10.1             pyhd8ed1ab_0    conda-forge\n",
      "tensorboard-data-server   0.6.1           py310h5588dad_4    conda-forge\n",
      "tensorboard-plugin-wit    1.8.1              pyhd8ed1ab_0    conda-forge\n",
      "tensorflow                2.10.0          mkl_py310hd99672f_0  \n",
      "tensorflow-base           2.10.0          mkl_py310h6a7f48e_0  \n",
      "tensorflow-estimator      2.10.0          py310haa95532_0  \n",
      "termcolor                 2.5.0              pyhd8ed1ab_0    conda-forge\n",
      "terminado                 0.18.1             pyh5737063_0    conda-forge\n",
      "threadpoolctl             3.5.0              pyhc1e730c_0    conda-forge\n",
      "tinycss2                  1.3.0              pyhd8ed1ab_0    conda-forge\n",
      "tk                        8.6.13               h5226925_1    conda-forge\n",
      "tokenizers                0.20.0                   pypi_0    pypi\n",
      "tomli                     2.0.2              pyhd8ed1ab_0    conda-forge\n",
      "torchaudio                2.1.2                    pypi_0    pypi\n",
      "torchvision               0.16.2                   pypi_0    pypi\n",
      "tornado                   6.4.1           py310ha8f682b_1    conda-forge\n",
      "tqdm                      4.66.5                   pypi_0    pypi\n",
      "traitlets                 5.14.3             pyhd8ed1ab_0    conda-forge\n",
      "transformers              4.45.2                   pypi_0    pypi\n",
      "types-python-dateutil     2.9.0.20241003     pyhff2d567_0    conda-forge\n",
      "typing-extensions         4.12.2               hd8ed1ab_0    conda-forge\n",
      "typing_extensions         4.12.2             pyha770c72_0    conda-forge\n",
      "typing_utils              0.1.0              pyhd8ed1ab_0    conda-forge\n",
      "tzdata                    2024b                hc8b5060_0    conda-forge\n",
      "ucrt                      10.0.22621.0         h57928b3_1    conda-forge\n",
      "unicodedata2              15.1.0          py310h8d17308_0    conda-forge\n",
      "uri-template              1.3.0              pyhd8ed1ab_0    conda-forge\n",
      "urllib3                   2.2.3              pyhd8ed1ab_0    conda-forge\n",
      "vc                        14.3                h8a93ad2_22    conda-forge\n",
      "vc14_runtime              14.40.33810         hcc2c482_22    conda-forge\n",
      "vs2015_runtime            14.40.33810         h3bf8584_22    conda-forge\n",
      "wcwidth                   0.2.13             pyhd8ed1ab_0    conda-forge\n",
      "webcolors                 24.8.0             pyhd8ed1ab_0    conda-forge\n",
      "webencodings              0.5.1              pyhd8ed1ab_2    conda-forge\n",
      "websocket-client          1.8.0              pyhd8ed1ab_0    conda-forge\n",
      "werkzeug                  3.0.4              pyhd8ed1ab_0    conda-forge\n",
      "wheel                     0.44.0             pyhd8ed1ab_0    conda-forge\n",
      "widgetsnbextension        4.0.13             pyhd8ed1ab_0    conda-forge\n",
      "win_inet_pton             1.1.0              pyh7428d3b_7    conda-forge\n",
      "winpty                    0.4.3                         4    conda-forge\n",
      "wrapt                     1.16.0          py310ha8f682b_1    conda-forge\n",
      "xorg-libxau               1.0.11               h0e40799_1    conda-forge\n",
      "xorg-libxdmcp             1.1.5                h0e40799_0    conda-forge\n",
      "xxhash                    3.5.0                    pypi_0    pypi\n",
      "xz                        5.2.6                h8d14728_0    conda-forge\n",
      "yaml                      0.2.5                h8ffe710_2    conda-forge\n",
      "yarl                      1.13.1          py310ha8f682b_0    conda-forge\n",
      "zeromq                    4.3.5                he0c23c2_3    conda-forge\n",
      "zipp                      3.20.2             pyhd8ed1ab_0    conda-forge\n",
      "zlib                      1.2.13               h2466b09_6    conda-forge\n",
      "zstandard                 0.23.0          py310he5e10e1_1    conda-forge\n",
      "zstd                      1.5.6                h0ea2cb4_0    conda-forge\n"
     ]
    }
   ],
   "source": [
    "conda list"
   ]
  },
  {
   "cell_type": "code",
   "execution_count": 2,
   "id": "initial_id",
   "metadata": {
    "ExecuteTime": {
     "end_time": "2024-10-06T14:43:22.223433Z",
     "start_time": "2024-10-06T14:43:22.205176Z"
    },
    "collapsed": true
   },
   "outputs": [],
   "source": [
    "_exp_name = \"sample\"\n",
    "# Import necessary packages.\n",
    "import numpy as np\n",
    "import pandas as pd\n",
    "import os\n",
    "import torch.nn as nn\n",
    "import torchvision.transforms as transforms\n",
    "from PIL import Image\n",
    "# \"ConcatDataset\" and \"Subset\" are possibly useful when doing semi-supervised learning.\n",
    "from torch.utils.data import ConcatDataset, DataLoader, Subset, Dataset\n",
    "from torchvision.datasets import DatasetFolder, VisionDataset\n",
    "# This is for the progress bar.\n",
    "from tqdm.auto import tqdm\n",
    "import random\n",
    "import torch\n",
    "from torch.utils.data import DataLoader, random_split\n",
    "from torch.nn.utils.rnn import pad_sequence\n",
    "from torch.utils.tensorboard import SummaryWriter\n"
   ]
  },
  {
   "cell_type": "code",
   "execution_count": 3,
   "id": "2a79c63ea57d2c26",
   "metadata": {
    "ExecuteTime": {
     "end_time": "2024-10-06T14:43:22.255471Z",
     "start_time": "2024-10-06T14:43:22.239929Z"
    }
   },
   "outputs": [],
   "source": [
    "myseed = 6666  # set a random seed for reproducibility\n",
    "torch.backends.cudnn.deterministic = True\n",
    "torch.backends.cudnn.benchmark = False\n",
    "np.random.seed(myseed)\n",
    "torch.manual_seed(myseed)\n",
    "if torch.cuda.is_available():\n",
    "    torch.cuda.manual_seed_all(myseed)"
   ]
  },
  {
   "cell_type": "code",
   "execution_count": 4,
   "id": "67e43cc4d5410464",
   "metadata": {
    "ExecuteTime": {
     "end_time": "2024-10-06T14:43:22.301959Z",
     "start_time": "2024-10-06T14:43:22.282808Z"
    }
   },
   "outputs": [],
   "source": [
    "def read_df(df,df_):\n",
    "    df = df.iloc[:1001,1:].T\n",
    "    df_=df_.iloc[:1001,1:].T\n",
    "    df_append = pd.concat([df, df_], ignore_index=True, axis=0)\n",
    "    return  df_append\n",
    "\n",
    "class MyDataset(Dataset):\n",
    "\n",
    "    def __init__(self,path,files = None):\n",
    "        super(MyDataset).__init__()\n",
    "        self.path = path\n",
    "        self.files = sorted([os.path.join(path,x) for x in os.listdir(path) if x.endswith(\"电流.csv\")])\n",
    "        self.files_= sorted([os.path.join(path,x) for x in os.listdir(path) if x.endswith(\"转矩.csv\")])\n",
    "  \n",
    "    def __len__(self):\n",
    "        return len(self.files)\n",
    "  \n",
    "    def __getitem__(self, idx):\n",
    "        try:\n",
    "            fname = self.files[idx]\n",
    "            data = pd.read_csv(fname)\n",
    "            data_ = pd.read_csv(self.files_[idx])\n",
    "            \n",
    "            # Process data into tensor\n",
    "            data_tensor = torch.tensor(read_df(data, data_).values, dtype=torch.float32)\n",
    "            # Check if data_tensor has the expected shape\n",
    "            if data_tensor.ndim != 2 or data_tensor.shape[0] != 4:  # Adjust according to your needs\n",
    "                print(f\"Unexpected shape for {fname}: {data_tensor.shape}\")\n",
    "                return None, -1  # Indicate an error\n",
    "    \n",
    "        except Exception as e:\n",
    "            print(f\"Error reading file {fname}: {e}\")\n",
    "            return None, -1  # Handle error appropriately\n",
    "    \n",
    "        try:\n",
    "            label = int(fname.split(\"\\\\\")[-1].split(\"_\")[0])  # Use [-1] to get last part\n",
    "        except Exception as e:\n",
    "            print(f\"Error extracting label from {fname}: {e}\")\n",
    "            label = -1  # Test has no label\n",
    "    \n",
    "        return data_tensor, label\n",
    "\n",
    "def MyDataLoader(data_dir, batch_size, n_workers):\n",
    "    \"\"\"Generate dataloader\"\"\"\n",
    "    dataset = MyDataset(data_dir)\n",
    "    trainlen = int(0.9 * len(dataset))\n",
    "    lengths = [trainlen, len(dataset) - trainlen]\n",
    "    trainset, validset = random_split(dataset, lengths)\n",
    "\n",
    "    train_loader = DataLoader(\n",
    "        trainset,\n",
    "        batch_size=batch_size,\n",
    "        shuffle=True,\n",
    "        drop_last=True,\n",
    "        num_workers=n_workers,\n",
    "        pin_memory=True,\n",
    "\n",
    "    )\n",
    "    valid_loader = DataLoader(\n",
    "        validset,\n",
    "        batch_size=batch_size,\n",
    "        num_workers=n_workers,\n",
    "        drop_last=True,\n",
    "        pin_memory=True,\n",
    "\n",
    "    )\n",
    "\n",
    "    return train_loader, valid_loader, "
   ]
  },
  {
   "cell_type": "code",
   "execution_count": 5,
   "id": "7f904757c90880e0",
   "metadata": {
    "ExecuteTime": {
     "end_time": "2024-10-06T14:43:22.317877Z",
     "start_time": "2024-10-06T14:43:22.303958Z"
    }
   },
   "outputs": [],
   "source": [
    "class OneDCNN(nn.Module):  \n",
    "    def __init__(self, input_size, num_classes, kernel_size=5):  \n",
    "        super(OneDCNN, self).__init__()  \n",
    "        self.conv1 = nn.Conv1d(in_channels=4, out_channels=16, kernel_size=kernel_size)  \n",
    "        self.pool = nn.MaxPool1d(kernel_size=2)  \n",
    "        self.conv2 = nn.Conv1d(in_channels=16, out_channels=32, kernel_size=kernel_size)  \n",
    "        \n",
    "        # 计算有效的输入尺寸  \n",
    "        conv1_output_size = (input_size - kernel_size + 1)  \n",
    "        conv1_pooled_size = conv1_output_size // 2  \n",
    "        conv2_output_size = (conv1_pooled_size - kernel_size + 1)  \n",
    "        conv2_pooled_size = conv2_output_size // 2  \n",
    "        \n",
    "        # 为fc1定义尺寸  \n",
    "        self.fc1 = nn.Linear(32 * conv2_pooled_size, 128)  \n",
    "        self.fc2 = nn.Linear(128, num_classes)  \n",
    "\n",
    "    def forward(self, x):  \n",
    "        x = self.pool(nn.functional.relu(self.conv1(x)))  \n",
    "        x = self.pool(nn.functional.relu(self.conv2(x)))  \n",
    "        x = x.view(x.size(0), -1)  # Flatten the output  \n",
    "        x = nn.functional.relu(self.fc1(x))  \n",
    "        x = self.fc2(x)  \n",
    "        return x"
   ]
  },
  {
   "cell_type": "code",
   "execution_count": 6,
   "id": "25e33a4f36caffdb",
   "metadata": {
    "ExecuteTime": {
     "end_time": "2024-10-06T14:43:22.348042Z",
     "start_time": "2024-10-06T14:43:22.318897Z"
    }
   },
   "outputs": [],
   "source": [
    "# \"cuda\" only when GPUs are available.\n",
    "device = \"cuda\" if torch.cuda.is_available() else \"cpu\"\n",
    "\n",
    "# Initialize a model, and put it on the device specified.\n",
    "model = OneDCNN(input_size=1001, num_classes=16).to(device)\n",
    "# The number of batch size.\n",
    "batch_size =512\n",
    "\n",
    "# The number of training epochs.\n",
    "n_epochs = 2000\n",
    "# If no improvement in 'patience' epochs, early stop.\n",
    "patience = 1000\n",
    "\n",
    "# For the classification task, we use cross-entropy as the measurement of performance.\n",
    "criterion = nn.CrossEntropyLoss()\n",
    "\n",
    "# Initialize optimizer, you may fine-tune some hyperparameters such as learning rate on your own.\n",
    "optimizer = torch.optim.Adam(model.parameters(), lr=0.005, weight_decay=1e-5)\n",
    "train_set = MyDataset(\"定子匝间短路\")\n",
    "train_loader = DataLoader(train_set, batch_size=batch_size, shuffle=True, num_workers=0, pin_memory=True)\n",
    "valid_set = MyDataset(\"定子匝间短路\")\n",
    "valid_loader = DataLoader(valid_set, batch_size=batch_size, shuffle=True, num_workers=0, pin_memory=True)"
   ]
  },
  {
   "cell_type": "code",
   "execution_count": 7,
   "id": "b5e79554b5e6ce3d",
   "metadata": {
    "ExecuteTime": {
     "end_time": "2024-10-06T14:43:22.410957Z",
     "start_time": "2024-10-06T14:43:22.350686Z"
    }
   },
   "outputs": [
    {
     "data": {
      "application/vnd.jupyter.widget-view+json": {
       "model_id": "e7cf58b4d81d4aeab89811e144658d8e",
       "version_major": 2,
       "version_minor": 0
      },
      "text/plain": [
       "  0%|          | 0/1 [00:00<?, ?it/s]"
      ]
     },
     "metadata": {},
     "output_type": "display_data"
    }
   ],
   "source": [
    "for batch in tqdm(train_loader):\n",
    "\n",
    "        # A batch consists of image data and corresponding labels.\n",
    "        datas, labels = batch"
   ]
  },
  {
   "cell_type": "code",
   "execution_count": 8,
   "id": "c2cc3bfb4ac5bba2",
   "metadata": {
    "ExecuteTime": {
     "end_time": "2024-10-06T14:47:10.404364Z",
     "start_time": "2024-10-06T14:43:22.412956Z"
    }
   },
   "outputs": [
    {
     "data": {
      "application/vnd.jupyter.widget-view+json": {
       "model_id": "73805a21ba6f4c8c89ee26e0c8e072c0",
       "version_major": 2,
       "version_minor": 0
      },
      "text/plain": [
       "  0%|          | 0/1 [00:00<?, ?it/s]"
      ]
     },
     "metadata": {},
     "output_type": "display_data"
    },
    {
     "data": {
      "application/vnd.jupyter.widget-view+json": {
       "model_id": "dc5b1a2dcd24469d9c9a5f04e9c896f2",
       "version_major": 2,
       "version_minor": 0
      },
      "text/plain": [
       "  0%|          | 0/1 [00:00<?, ?it/s]"
      ]
     },
     "metadata": {},
     "output_type": "display_data"
    },
    {
     "data": {
      "application/vnd.jupyter.widget-view+json": {
       "model_id": "94dcf598d3264c43bf299d178ab393a6",
       "version_major": 2,
       "version_minor": 0
      },
      "text/plain": [
       "  0%|          | 0/1 [00:00<?, ?it/s]"
      ]
     },
     "metadata": {},
     "output_type": "display_data"
    },
    {
     "data": {
      "application/vnd.jupyter.widget-view+json": {
       "model_id": "4526b9bc262645ebbe12151fbae4e905",
       "version_major": 2,
       "version_minor": 0
      },
      "text/plain": [
       "  0%|          | 0/1 [00:00<?, ?it/s]"
      ]
     },
     "metadata": {},
     "output_type": "display_data"
    },
    {
     "data": {
      "application/vnd.jupyter.widget-view+json": {
       "model_id": "fa49ccaf7fe2483b8e149656e7ffdc9c",
       "version_major": 2,
       "version_minor": 0
      },
      "text/plain": [
       "  0%|          | 0/1 [00:00<?, ?it/s]"
      ]
     },
     "metadata": {},
     "output_type": "display_data"
    },
    {
     "data": {
      "application/vnd.jupyter.widget-view+json": {
       "model_id": "dd732c5d30464fbb9c8b6f56c8bd5cd1",
       "version_major": 2,
       "version_minor": 0
      },
      "text/plain": [
       "  0%|          | 0/1 [00:00<?, ?it/s]"
      ]
     },
     "metadata": {},
     "output_type": "display_data"
    },
    {
     "data": {
      "application/vnd.jupyter.widget-view+json": {
       "model_id": "9935eaf0823e496b88b3ae76c2079cff",
       "version_major": 2,
       "version_minor": 0
      },
      "text/plain": [
       "  0%|          | 0/1 [00:00<?, ?it/s]"
      ]
     },
     "metadata": {},
     "output_type": "display_data"
    },
    {
     "data": {
      "application/vnd.jupyter.widget-view+json": {
       "model_id": "4f4f46e943414f4593276b022404e838",
       "version_major": 2,
       "version_minor": 0
      },
      "text/plain": [
       "  0%|          | 0/1 [00:00<?, ?it/s]"
      ]
     },
     "metadata": {},
     "output_type": "display_data"
    },
    {
     "data": {
      "application/vnd.jupyter.widget-view+json": {
       "model_id": "9513f6592ee44462b707280e8844acdd",
       "version_major": 2,
       "version_minor": 0
      },
      "text/plain": [
       "  0%|          | 0/1 [00:00<?, ?it/s]"
      ]
     },
     "metadata": {},
     "output_type": "display_data"
    },
    {
     "data": {
      "application/vnd.jupyter.widget-view+json": {
       "model_id": "39c3d118e597464987a170e742faee6c",
       "version_major": 2,
       "version_minor": 0
      },
      "text/plain": [
       "  0%|          | 0/1 [00:00<?, ?it/s]"
      ]
     },
     "metadata": {},
     "output_type": "display_data"
    },
    {
     "data": {
      "application/vnd.jupyter.widget-view+json": {
       "model_id": "683bc849da4544339babc4f0f8d2a496",
       "version_major": 2,
       "version_minor": 0
      },
      "text/plain": [
       "  0%|          | 0/1 [00:00<?, ?it/s]"
      ]
     },
     "metadata": {},
     "output_type": "display_data"
    },
    {
     "data": {
      "application/vnd.jupyter.widget-view+json": {
       "model_id": "7fb7bd7c8d474c8499c9c8280100bcda",
       "version_major": 2,
       "version_minor": 0
      },
      "text/plain": [
       "  0%|          | 0/1 [00:00<?, ?it/s]"
      ]
     },
     "metadata": {},
     "output_type": "display_data"
    },
    {
     "data": {
      "application/vnd.jupyter.widget-view+json": {
       "model_id": "a12ed33409ef4312b1a709fcc91ea067",
       "version_major": 2,
       "version_minor": 0
      },
      "text/plain": [
       "  0%|          | 0/1 [00:00<?, ?it/s]"
      ]
     },
     "metadata": {},
     "output_type": "display_data"
    },
    {
     "data": {
      "application/vnd.jupyter.widget-view+json": {
       "model_id": "a05998d1e62b4d4eb5e2c9c133a387b3",
       "version_major": 2,
       "version_minor": 0
      },
      "text/plain": [
       "  0%|          | 0/1 [00:00<?, ?it/s]"
      ]
     },
     "metadata": {},
     "output_type": "display_data"
    },
    {
     "data": {
      "application/vnd.jupyter.widget-view+json": {
       "model_id": "6f873b7199c1423197b185cbc7051aab",
       "version_major": 2,
       "version_minor": 0
      },
      "text/plain": [
       "  0%|          | 0/1 [00:00<?, ?it/s]"
      ]
     },
     "metadata": {},
     "output_type": "display_data"
    },
    {
     "data": {
      "application/vnd.jupyter.widget-view+json": {
       "model_id": "a377633665c246a98bb09d4c15557247",
       "version_major": 2,
       "version_minor": 0
      },
      "text/plain": [
       "  0%|          | 0/1 [00:00<?, ?it/s]"
      ]
     },
     "metadata": {},
     "output_type": "display_data"
    },
    {
     "data": {
      "application/vnd.jupyter.widget-view+json": {
       "model_id": "10139332ffc84f58b261fb7f36a4c979",
       "version_major": 2,
       "version_minor": 0
      },
      "text/plain": [
       "  0%|          | 0/1 [00:00<?, ?it/s]"
      ]
     },
     "metadata": {},
     "output_type": "display_data"
    },
    {
     "data": {
      "application/vnd.jupyter.widget-view+json": {
       "model_id": "a4ee85f85c6f4c3a83650c38d00426f8",
       "version_major": 2,
       "version_minor": 0
      },
      "text/plain": [
       "  0%|          | 0/1 [00:00<?, ?it/s]"
      ]
     },
     "metadata": {},
     "output_type": "display_data"
    },
    {
     "data": {
      "application/vnd.jupyter.widget-view+json": {
       "model_id": "13627fff22134d54bca39e139a7027c8",
       "version_major": 2,
       "version_minor": 0
      },
      "text/plain": [
       "  0%|          | 0/1 [00:00<?, ?it/s]"
      ]
     },
     "metadata": {},
     "output_type": "display_data"
    },
    {
     "data": {
      "application/vnd.jupyter.widget-view+json": {
       "model_id": "50d9194a1815458291c0b26f6b22348b",
       "version_major": 2,
       "version_minor": 0
      },
      "text/plain": [
       "  0%|          | 0/1 [00:00<?, ?it/s]"
      ]
     },
     "metadata": {},
     "output_type": "display_data"
    },
    {
     "data": {
      "application/vnd.jupyter.widget-view+json": {
       "model_id": "d47f46d64a254c9999aa309dcd7b32ba",
       "version_major": 2,
       "version_minor": 0
      },
      "text/plain": [
       "  0%|          | 0/1 [00:00<?, ?it/s]"
      ]
     },
     "metadata": {},
     "output_type": "display_data"
    },
    {
     "data": {
      "application/vnd.jupyter.widget-view+json": {
       "model_id": "2420f31de31b452a8cadf3a4a40f8154",
       "version_major": 2,
       "version_minor": 0
      },
      "text/plain": [
       "  0%|          | 0/1 [00:00<?, ?it/s]"
      ]
     },
     "metadata": {},
     "output_type": "display_data"
    },
    {
     "data": {
      "application/vnd.jupyter.widget-view+json": {
       "model_id": "37c7ab0dcdfd499e8cf56da9c87ac4a0",
       "version_major": 2,
       "version_minor": 0
      },
      "text/plain": [
       "  0%|          | 0/1 [00:00<?, ?it/s]"
      ]
     },
     "metadata": {},
     "output_type": "display_data"
    },
    {
     "data": {
      "application/vnd.jupyter.widget-view+json": {
       "model_id": "2232f39417154652a8ddab241ae3feb1",
       "version_major": 2,
       "version_minor": 0
      },
      "text/plain": [
       "  0%|          | 0/1 [00:00<?, ?it/s]"
      ]
     },
     "metadata": {},
     "output_type": "display_data"
    },
    {
     "data": {
      "application/vnd.jupyter.widget-view+json": {
       "model_id": "e88b82ee04c0490d8037e3db9f24984b",
       "version_major": 2,
       "version_minor": 0
      },
      "text/plain": [
       "  0%|          | 0/1 [00:00<?, ?it/s]"
      ]
     },
     "metadata": {},
     "output_type": "display_data"
    },
    {
     "data": {
      "application/vnd.jupyter.widget-view+json": {
       "model_id": "7c1b9ba631074374bb94ff42536eb2fb",
       "version_major": 2,
       "version_minor": 0
      },
      "text/plain": [
       "  0%|          | 0/1 [00:00<?, ?it/s]"
      ]
     },
     "metadata": {},
     "output_type": "display_data"
    },
    {
     "data": {
      "application/vnd.jupyter.widget-view+json": {
       "model_id": "00b61ddf88944fb1838e817ffa1815ef",
       "version_major": 2,
       "version_minor": 0
      },
      "text/plain": [
       "  0%|          | 0/1 [00:00<?, ?it/s]"
      ]
     },
     "metadata": {},
     "output_type": "display_data"
    },
    {
     "data": {
      "application/vnd.jupyter.widget-view+json": {
       "model_id": "c7a6d809bb4145b69de7c1cad5d30d92",
       "version_major": 2,
       "version_minor": 0
      },
      "text/plain": [
       "  0%|          | 0/1 [00:00<?, ?it/s]"
      ]
     },
     "metadata": {},
     "output_type": "display_data"
    },
    {
     "data": {
      "application/vnd.jupyter.widget-view+json": {
       "model_id": "dc729be20c6c4694a2769d7eef367759",
       "version_major": 2,
       "version_minor": 0
      },
      "text/plain": [
       "  0%|          | 0/1 [00:00<?, ?it/s]"
      ]
     },
     "metadata": {},
     "output_type": "display_data"
    },
    {
     "data": {
      "application/vnd.jupyter.widget-view+json": {
       "model_id": "6cd8a90d088f4b9888661ecf1197c1a8",
       "version_major": 2,
       "version_minor": 0
      },
      "text/plain": [
       "  0%|          | 0/1 [00:00<?, ?it/s]"
      ]
     },
     "metadata": {},
     "output_type": "display_data"
    },
    {
     "data": {
      "application/vnd.jupyter.widget-view+json": {
       "model_id": "df0379510e3840e8810a5d556463855e",
       "version_major": 2,
       "version_minor": 0
      },
      "text/plain": [
       "  0%|          | 0/1 [00:00<?, ?it/s]"
      ]
     },
     "metadata": {},
     "output_type": "display_data"
    },
    {
     "data": {
      "application/vnd.jupyter.widget-view+json": {
       "model_id": "d24cf4a27d584afba22d86d1b7d1fc0e",
       "version_major": 2,
       "version_minor": 0
      },
      "text/plain": [
       "  0%|          | 0/1 [00:00<?, ?it/s]"
      ]
     },
     "metadata": {},
     "output_type": "display_data"
    },
    {
     "data": {
      "application/vnd.jupyter.widget-view+json": {
       "model_id": "841ee788ab7b438da61ef6589b22d812",
       "version_major": 2,
       "version_minor": 0
      },
      "text/plain": [
       "  0%|          | 0/1 [00:00<?, ?it/s]"
      ]
     },
     "metadata": {},
     "output_type": "display_data"
    },
    {
     "data": {
      "application/vnd.jupyter.widget-view+json": {
       "model_id": "8eea1a29d5d648f18c4bd9fb65a4dfe5",
       "version_major": 2,
       "version_minor": 0
      },
      "text/plain": [
       "  0%|          | 0/1 [00:00<?, ?it/s]"
      ]
     },
     "metadata": {},
     "output_type": "display_data"
    },
    {
     "data": {
      "application/vnd.jupyter.widget-view+json": {
       "model_id": "8896fe88881247e5a9c1a798f58db606",
       "version_major": 2,
       "version_minor": 0
      },
      "text/plain": [
       "  0%|          | 0/1 [00:00<?, ?it/s]"
      ]
     },
     "metadata": {},
     "output_type": "display_data"
    },
    {
     "data": {
      "application/vnd.jupyter.widget-view+json": {
       "model_id": "e5d7fa426717443a842ceeb912382dee",
       "version_major": 2,
       "version_minor": 0
      },
      "text/plain": [
       "  0%|          | 0/1 [00:00<?, ?it/s]"
      ]
     },
     "metadata": {},
     "output_type": "display_data"
    },
    {
     "data": {
      "application/vnd.jupyter.widget-view+json": {
       "model_id": "ca60bbb4d28a4f7a9a555681ab772477",
       "version_major": 2,
       "version_minor": 0
      },
      "text/plain": [
       "  0%|          | 0/1 [00:00<?, ?it/s]"
      ]
     },
     "metadata": {},
     "output_type": "display_data"
    },
    {
     "data": {
      "application/vnd.jupyter.widget-view+json": {
       "model_id": "59fefb78b34f4c6caebc26c8ed51641c",
       "version_major": 2,
       "version_minor": 0
      },
      "text/plain": [
       "  0%|          | 0/1 [00:00<?, ?it/s]"
      ]
     },
     "metadata": {},
     "output_type": "display_data"
    },
    {
     "data": {
      "application/vnd.jupyter.widget-view+json": {
       "model_id": "952c4ef16f3944358e1931c3759610f2",
       "version_major": 2,
       "version_minor": 0
      },
      "text/plain": [
       "  0%|          | 0/1 [00:00<?, ?it/s]"
      ]
     },
     "metadata": {},
     "output_type": "display_data"
    },
    {
     "data": {
      "application/vnd.jupyter.widget-view+json": {
       "model_id": "dce14cc7fdfb4a17bcac3e7c58670a8c",
       "version_major": 2,
       "version_minor": 0
      },
      "text/plain": [
       "  0%|          | 0/1 [00:00<?, ?it/s]"
      ]
     },
     "metadata": {},
     "output_type": "display_data"
    },
    {
     "data": {
      "application/vnd.jupyter.widget-view+json": {
       "model_id": "2f31e4b6db1b41398f44d88c277b19dc",
       "version_major": 2,
       "version_minor": 0
      },
      "text/plain": [
       "  0%|          | 0/1 [00:00<?, ?it/s]"
      ]
     },
     "metadata": {},
     "output_type": "display_data"
    },
    {
     "data": {
      "application/vnd.jupyter.widget-view+json": {
       "model_id": "b01e8abbbfc6456184ff5b1f53d1901d",
       "version_major": 2,
       "version_minor": 0
      },
      "text/plain": [
       "  0%|          | 0/1 [00:00<?, ?it/s]"
      ]
     },
     "metadata": {},
     "output_type": "display_data"
    },
    {
     "data": {
      "application/vnd.jupyter.widget-view+json": {
       "model_id": "6ffa72b5f85e405095bcecf60ed718b9",
       "version_major": 2,
       "version_minor": 0
      },
      "text/plain": [
       "  0%|          | 0/1 [00:00<?, ?it/s]"
      ]
     },
     "metadata": {},
     "output_type": "display_data"
    },
    {
     "data": {
      "application/vnd.jupyter.widget-view+json": {
       "model_id": "335cc2a4755e4f6e95f6f3f8812ed7d6",
       "version_major": 2,
       "version_minor": 0
      },
      "text/plain": [
       "  0%|          | 0/1 [00:00<?, ?it/s]"
      ]
     },
     "metadata": {},
     "output_type": "display_data"
    },
    {
     "data": {
      "application/vnd.jupyter.widget-view+json": {
       "model_id": "bb391a4f8839437c8f5bc730c6b83554",
       "version_major": 2,
       "version_minor": 0
      },
      "text/plain": [
       "  0%|          | 0/1 [00:00<?, ?it/s]"
      ]
     },
     "metadata": {},
     "output_type": "display_data"
    },
    {
     "data": {
      "application/vnd.jupyter.widget-view+json": {
       "model_id": "47977e68e48943a1af1a101edd395295",
       "version_major": 2,
       "version_minor": 0
      },
      "text/plain": [
       "  0%|          | 0/1 [00:00<?, ?it/s]"
      ]
     },
     "metadata": {},
     "output_type": "display_data"
    },
    {
     "data": {
      "application/vnd.jupyter.widget-view+json": {
       "model_id": "4df2d0292a27498aa05d19087ad5b5dc",
       "version_major": 2,
       "version_minor": 0
      },
      "text/plain": [
       "  0%|          | 0/1 [00:00<?, ?it/s]"
      ]
     },
     "metadata": {},
     "output_type": "display_data"
    },
    {
     "data": {
      "application/vnd.jupyter.widget-view+json": {
       "model_id": "2c098c5304d345028ba85ac41202c0a7",
       "version_major": 2,
       "version_minor": 0
      },
      "text/plain": [
       "  0%|          | 0/1 [00:00<?, ?it/s]"
      ]
     },
     "metadata": {},
     "output_type": "display_data"
    },
    {
     "data": {
      "application/vnd.jupyter.widget-view+json": {
       "model_id": "2394ae7eaa0744ac8faf0cf949eb9df8",
       "version_major": 2,
       "version_minor": 0
      },
      "text/plain": [
       "  0%|          | 0/1 [00:00<?, ?it/s]"
      ]
     },
     "metadata": {},
     "output_type": "display_data"
    },
    {
     "data": {
      "application/vnd.jupyter.widget-view+json": {
       "model_id": "14b9e0985dd44f41b437eeeeaf31a607",
       "version_major": 2,
       "version_minor": 0
      },
      "text/plain": [
       "  0%|          | 0/1 [00:00<?, ?it/s]"
      ]
     },
     "metadata": {},
     "output_type": "display_data"
    },
    {
     "data": {
      "application/vnd.jupyter.widget-view+json": {
       "model_id": "907d54669b5d434ea1532d95a18dab88",
       "version_major": 2,
       "version_minor": 0
      },
      "text/plain": [
       "  0%|          | 0/1 [00:00<?, ?it/s]"
      ]
     },
     "metadata": {},
     "output_type": "display_data"
    },
    {
     "data": {
      "application/vnd.jupyter.widget-view+json": {
       "model_id": "2f7a62af05ef44fcb59c7de65747a85e",
       "version_major": 2,
       "version_minor": 0
      },
      "text/plain": [
       "  0%|          | 0/1 [00:00<?, ?it/s]"
      ]
     },
     "metadata": {},
     "output_type": "display_data"
    },
    {
     "data": {
      "application/vnd.jupyter.widget-view+json": {
       "model_id": "5058ced7e7264827bd458e5f6f8701e8",
       "version_major": 2,
       "version_minor": 0
      },
      "text/plain": [
       "  0%|          | 0/1 [00:00<?, ?it/s]"
      ]
     },
     "metadata": {},
     "output_type": "display_data"
    },
    {
     "data": {
      "application/vnd.jupyter.widget-view+json": {
       "model_id": "48d38190f57c4fe4adfae5c070c3227d",
       "version_major": 2,
       "version_minor": 0
      },
      "text/plain": [
       "  0%|          | 0/1 [00:00<?, ?it/s]"
      ]
     },
     "metadata": {},
     "output_type": "display_data"
    },
    {
     "data": {
      "application/vnd.jupyter.widget-view+json": {
       "model_id": "df7b192dfde444669d110aacc54eaf47",
       "version_major": 2,
       "version_minor": 0
      },
      "text/plain": [
       "  0%|          | 0/1 [00:00<?, ?it/s]"
      ]
     },
     "metadata": {},
     "output_type": "display_data"
    },
    {
     "data": {
      "application/vnd.jupyter.widget-view+json": {
       "model_id": "89f22f4e50a6411e884c229a9cbdedc4",
       "version_major": 2,
       "version_minor": 0
      },
      "text/plain": [
       "  0%|          | 0/1 [00:00<?, ?it/s]"
      ]
     },
     "metadata": {},
     "output_type": "display_data"
    },
    {
     "ename": "KeyboardInterrupt",
     "evalue": "",
     "output_type": "error",
     "traceback": [
      "\u001b[1;31m---------------------------------------------------------------------------\u001b[0m",
      "\u001b[1;31mKeyboardInterrupt\u001b[0m                         Traceback (most recent call last)",
      "Cell \u001b[1;32mIn[8], line 16\u001b[0m\n\u001b[0;32m     13\u001b[0m train_loss \u001b[38;5;241m=\u001b[39m []\n\u001b[0;32m     14\u001b[0m train_accs \u001b[38;5;241m=\u001b[39m []\n\u001b[1;32m---> 16\u001b[0m \u001b[38;5;28;01mfor\u001b[39;00m batch \u001b[38;5;129;01min\u001b[39;00m \u001b[43mtqdm\u001b[49m\u001b[43m(\u001b[49m\u001b[43mtrain_loader\u001b[49m\u001b[43m)\u001b[49m:\n\u001b[0;32m     17\u001b[0m \n\u001b[0;32m     18\u001b[0m     \u001b[38;5;66;03m# A batch consists of image data and corresponding labels.\u001b[39;00m\n\u001b[0;32m     19\u001b[0m     datas, labels \u001b[38;5;241m=\u001b[39m batch\n\u001b[0;32m     21\u001b[0m     \u001b[38;5;66;03m#imgs = imgs.half()\u001b[39;00m\n\u001b[0;32m     22\u001b[0m     \u001b[38;5;66;03m#print(imgs.shape,labels.shape)\u001b[39;00m\n\u001b[0;32m     23\u001b[0m \n\u001b[0;32m     24\u001b[0m     \u001b[38;5;66;03m# Forward the data. (Make sure data and model are on the same device.)\u001b[39;00m\n",
      "File \u001b[1;32md:\\anaconda\\envs\\hf\\lib\\site-packages\\tqdm\\notebook.py:238\u001b[0m, in \u001b[0;36mtqdm_notebook.__init__\u001b[1;34m(self, *args, **kwargs)\u001b[0m\n\u001b[0;32m    236\u001b[0m \u001b[38;5;28mself\u001b[39m\u001b[38;5;241m.\u001b[39mdisplayed \u001b[38;5;241m=\u001b[39m \u001b[38;5;28;01mFalse\u001b[39;00m\n\u001b[0;32m    237\u001b[0m \u001b[38;5;28;01mif\u001b[39;00m display_here \u001b[38;5;129;01mand\u001b[39;00m \u001b[38;5;28mself\u001b[39m\u001b[38;5;241m.\u001b[39mdelay \u001b[38;5;241m<\u001b[39m\u001b[38;5;241m=\u001b[39m \u001b[38;5;241m0\u001b[39m:\n\u001b[1;32m--> 238\u001b[0m     \u001b[43mdisplay\u001b[49m\u001b[43m(\u001b[49m\u001b[38;5;28;43mself\u001b[39;49m\u001b[38;5;241;43m.\u001b[39;49m\u001b[43mcontainer\u001b[49m\u001b[43m)\u001b[49m\n\u001b[0;32m    239\u001b[0m     \u001b[38;5;28mself\u001b[39m\u001b[38;5;241m.\u001b[39mdisplayed \u001b[38;5;241m=\u001b[39m \u001b[38;5;28;01mTrue\u001b[39;00m\n\u001b[0;32m    240\u001b[0m \u001b[38;5;28mself\u001b[39m\u001b[38;5;241m.\u001b[39mdisp \u001b[38;5;241m=\u001b[39m \u001b[38;5;28mself\u001b[39m\u001b[38;5;241m.\u001b[39mdisplay\n",
      "File \u001b[1;32m~\\AppData\\Roaming\\Python\\Python310\\site-packages\\IPython\\core\\display_functions.py:305\u001b[0m, in \u001b[0;36mdisplay\u001b[1;34m(include, exclude, metadata, transient, display_id, raw, clear, *objs, **kwargs)\u001b[0m\n\u001b[0;32m    302\u001b[0m         \u001b[38;5;28;01mif\u001b[39;00m metadata:\n\u001b[0;32m    303\u001b[0m             \u001b[38;5;66;03m# kwarg-specified metadata gets precedence\u001b[39;00m\n\u001b[0;32m    304\u001b[0m             _merge(md_dict, metadata)\n\u001b[1;32m--> 305\u001b[0m         publish_display_data(data\u001b[38;5;241m=\u001b[39mformat_dict, metadata\u001b[38;5;241m=\u001b[39mmd_dict, \u001b[38;5;241m*\u001b[39m\u001b[38;5;241m*\u001b[39mkwargs)\n\u001b[0;32m    306\u001b[0m \u001b[38;5;28;01mif\u001b[39;00m display_id:\n\u001b[0;32m    307\u001b[0m     \u001b[38;5;28;01mreturn\u001b[39;00m DisplayHandle(display_id)\n",
      "File \u001b[1;32m~\\AppData\\Roaming\\Python\\Python310\\site-packages\\IPython\\core\\display_functions.py:93\u001b[0m, in \u001b[0;36mpublish_display_data\u001b[1;34m(data, metadata, source, transient, **kwargs)\u001b[0m\n\u001b[0;32m     90\u001b[0m \u001b[38;5;28;01mif\u001b[39;00m transient:\n\u001b[0;32m     91\u001b[0m     kwargs[\u001b[38;5;124m'\u001b[39m\u001b[38;5;124mtransient\u001b[39m\u001b[38;5;124m'\u001b[39m] \u001b[38;5;241m=\u001b[39m transient\n\u001b[1;32m---> 93\u001b[0m display_pub\u001b[38;5;241m.\u001b[39mpublish(\n\u001b[0;32m     94\u001b[0m     data\u001b[38;5;241m=\u001b[39mdata,\n\u001b[0;32m     95\u001b[0m     metadata\u001b[38;5;241m=\u001b[39mmetadata,\n\u001b[0;32m     96\u001b[0m     \u001b[38;5;241m*\u001b[39m\u001b[38;5;241m*\u001b[39mkwargs\n\u001b[0;32m     97\u001b[0m )\n",
      "File \u001b[1;32m~\\AppData\\Roaming\\Python\\Python310\\site-packages\\ipykernel\\zmqshell.py:103\u001b[0m, in \u001b[0;36mZMQDisplayPublisher.publish\u001b[1;34m(self, data, metadata, transient, update)\u001b[0m\n\u001b[0;32m     81\u001b[0m \u001b[38;5;28;01mdef\u001b[39;00m \u001b[38;5;21mpublish\u001b[39m(\n\u001b[0;32m     82\u001b[0m     \u001b[38;5;28mself\u001b[39m,\n\u001b[0;32m     83\u001b[0m     data,\n\u001b[1;32m   (...)\u001b[0m\n\u001b[0;32m     86\u001b[0m     update\u001b[38;5;241m=\u001b[39m\u001b[38;5;28;01mFalse\u001b[39;00m,\n\u001b[0;32m     87\u001b[0m ):\n\u001b[0;32m     88\u001b[0m \u001b[38;5;250m    \u001b[39m\u001b[38;5;124;03m\"\"\"Publish a display-data message\u001b[39;00m\n\u001b[0;32m     89\u001b[0m \n\u001b[0;32m     90\u001b[0m \u001b[38;5;124;03m    Parameters\u001b[39;00m\n\u001b[1;32m   (...)\u001b[0m\n\u001b[0;32m    101\u001b[0m \u001b[38;5;124;03m        If True, send an update_display_data message instead of display_data.\u001b[39;00m\n\u001b[0;32m    102\u001b[0m \u001b[38;5;124;03m    \"\"\"\u001b[39;00m\n\u001b[1;32m--> 103\u001b[0m     \u001b[38;5;28;43mself\u001b[39;49m\u001b[38;5;241;43m.\u001b[39;49m\u001b[43m_flush_streams\u001b[49m\u001b[43m(\u001b[49m\u001b[43m)\u001b[49m\n\u001b[0;32m    104\u001b[0m     \u001b[38;5;28;01mif\u001b[39;00m metadata \u001b[38;5;129;01mis\u001b[39;00m \u001b[38;5;28;01mNone\u001b[39;00m:\n\u001b[0;32m    105\u001b[0m         metadata \u001b[38;5;241m=\u001b[39m {}\n",
      "File \u001b[1;32m~\\AppData\\Roaming\\Python\\Python310\\site-packages\\ipykernel\\zmqshell.py:66\u001b[0m, in \u001b[0;36mZMQDisplayPublisher._flush_streams\u001b[1;34m(self)\u001b[0m\n\u001b[0;32m     64\u001b[0m \u001b[38;5;28;01mdef\u001b[39;00m \u001b[38;5;21m_flush_streams\u001b[39m(\u001b[38;5;28mself\u001b[39m):\n\u001b[0;32m     65\u001b[0m \u001b[38;5;250m    \u001b[39m\u001b[38;5;124;03m\"\"\"flush IO Streams prior to display\"\"\"\u001b[39;00m\n\u001b[1;32m---> 66\u001b[0m     \u001b[43msys\u001b[49m\u001b[38;5;241;43m.\u001b[39;49m\u001b[43mstdout\u001b[49m\u001b[38;5;241;43m.\u001b[39;49m\u001b[43mflush\u001b[49m\u001b[43m(\u001b[49m\u001b[43m)\u001b[49m\n\u001b[0;32m     67\u001b[0m     sys\u001b[38;5;241m.\u001b[39mstderr\u001b[38;5;241m.\u001b[39mflush()\n",
      "File \u001b[1;32m~\\AppData\\Roaming\\Python\\Python310\\site-packages\\ipykernel\\iostream.py:609\u001b[0m, in \u001b[0;36mOutStream.flush\u001b[1;34m(self)\u001b[0m\n\u001b[0;32m    607\u001b[0m     \u001b[38;5;28mself\u001b[39m\u001b[38;5;241m.\u001b[39mpub_thread\u001b[38;5;241m.\u001b[39mschedule(evt\u001b[38;5;241m.\u001b[39mset)\n\u001b[0;32m    608\u001b[0m     \u001b[38;5;66;03m# and give a timeout to avoid\u001b[39;00m\n\u001b[1;32m--> 609\u001b[0m     \u001b[38;5;28;01mif\u001b[39;00m \u001b[38;5;129;01mnot\u001b[39;00m \u001b[43mevt\u001b[49m\u001b[38;5;241;43m.\u001b[39;49m\u001b[43mwait\u001b[49m\u001b[43m(\u001b[49m\u001b[38;5;28;43mself\u001b[39;49m\u001b[38;5;241;43m.\u001b[39;49m\u001b[43mflush_timeout\u001b[49m\u001b[43m)\u001b[49m:\n\u001b[0;32m    610\u001b[0m         \u001b[38;5;66;03m# write directly to __stderr__ instead of warning because\u001b[39;00m\n\u001b[0;32m    611\u001b[0m         \u001b[38;5;66;03m# if this is happening sys.stderr may be the problem.\u001b[39;00m\n\u001b[0;32m    612\u001b[0m         \u001b[38;5;28mprint\u001b[39m(\u001b[38;5;124m\"\u001b[39m\u001b[38;5;124mIOStream.flush timed out\u001b[39m\u001b[38;5;124m\"\u001b[39m, file\u001b[38;5;241m=\u001b[39msys\u001b[38;5;241m.\u001b[39m__stderr__)\n\u001b[0;32m    613\u001b[0m \u001b[38;5;28;01melse\u001b[39;00m:\n",
      "File \u001b[1;32md:\\anaconda\\envs\\hf\\lib\\threading.py:607\u001b[0m, in \u001b[0;36mEvent.wait\u001b[1;34m(self, timeout)\u001b[0m\n\u001b[0;32m    605\u001b[0m signaled \u001b[38;5;241m=\u001b[39m \u001b[38;5;28mself\u001b[39m\u001b[38;5;241m.\u001b[39m_flag\n\u001b[0;32m    606\u001b[0m \u001b[38;5;28;01mif\u001b[39;00m \u001b[38;5;129;01mnot\u001b[39;00m signaled:\n\u001b[1;32m--> 607\u001b[0m     signaled \u001b[38;5;241m=\u001b[39m \u001b[38;5;28;43mself\u001b[39;49m\u001b[38;5;241;43m.\u001b[39;49m\u001b[43m_cond\u001b[49m\u001b[38;5;241;43m.\u001b[39;49m\u001b[43mwait\u001b[49m\u001b[43m(\u001b[49m\u001b[43mtimeout\u001b[49m\u001b[43m)\u001b[49m\n\u001b[0;32m    608\u001b[0m \u001b[38;5;28;01mreturn\u001b[39;00m signaled\n",
      "File \u001b[1;32md:\\anaconda\\envs\\hf\\lib\\threading.py:324\u001b[0m, in \u001b[0;36mCondition.wait\u001b[1;34m(self, timeout)\u001b[0m\n\u001b[0;32m    322\u001b[0m \u001b[38;5;28;01melse\u001b[39;00m:\n\u001b[0;32m    323\u001b[0m     \u001b[38;5;28;01mif\u001b[39;00m timeout \u001b[38;5;241m>\u001b[39m \u001b[38;5;241m0\u001b[39m:\n\u001b[1;32m--> 324\u001b[0m         gotit \u001b[38;5;241m=\u001b[39m \u001b[43mwaiter\u001b[49m\u001b[38;5;241;43m.\u001b[39;49m\u001b[43macquire\u001b[49m\u001b[43m(\u001b[49m\u001b[38;5;28;43;01mTrue\u001b[39;49;00m\u001b[43m,\u001b[49m\u001b[43m \u001b[49m\u001b[43mtimeout\u001b[49m\u001b[43m)\u001b[49m\n\u001b[0;32m    325\u001b[0m     \u001b[38;5;28;01melse\u001b[39;00m:\n\u001b[0;32m    326\u001b[0m         gotit \u001b[38;5;241m=\u001b[39m waiter\u001b[38;5;241m.\u001b[39macquire(\u001b[38;5;28;01mFalse\u001b[39;00m)\n",
      "\u001b[1;31mKeyboardInterrupt\u001b[0m: "
     ]
    }
   ],
   "source": [
    "# Initialize trackers, these are not parameters and should not be changed\n",
    "writer = SummaryWriter('runs/lr0.005_bs512_epoch2000_patience10000_lrdecay0.1_wd1e-5_seed6666')\n",
    "stale = 0\n",
    "best_acc = 0\n",
    "\n",
    "for epoch in range(n_epochs):\n",
    "\n",
    "    # ---------- Training ----------\n",
    "    # Make sure the model is in train mode before training.\n",
    "    model.train()\n",
    "\n",
    "    # These are used to record information in training.\n",
    "    train_loss = []\n",
    "    train_accs = []\n",
    "\n",
    "    for batch in tqdm(train_loader):\n",
    "\n",
    "        # A batch consists of image data and corresponding labels.\n",
    "        datas, labels = batch\n",
    "        \n",
    "        #imgs = imgs.half()\n",
    "        #print(imgs.shape,labels.shape)\n",
    "\n",
    "        # Forward the data. (Make sure data and model are on the same device.)\n",
    "        logits = model(datas.to(device))\n",
    "\n",
    "        # Calculate the cross-entropy loss.\n",
    "        # We don't need to apply softmax before computing cross-entropy as it is done automatically.\n",
    "        loss = criterion(logits, labels.to(device))\n",
    "\n",
    "        # Gradients stored in the parameters in the previous step should be cleared out first.\n",
    "        optimizer.zero_grad()\n",
    "\n",
    "        # Compute the gradients for parameters.\n",
    "        loss.backward()\n",
    "\n",
    "        # Clip the gradient norms for stable training.\n",
    "        grad_norm = nn.utils.clip_grad_norm_(model.parameters(), max_norm=10)\n",
    "\n",
    "        # Update the parameters with computed gradients.\n",
    "        optimizer.step()\n",
    "\n",
    "        # Compute the accuracy for current batch.\n",
    "        acc = (logits.argmax(dim=-1) == labels.to(device)).float().mean()\n",
    "\n",
    "        # Record the loss and accuracy.\n",
    "        train_loss.append(loss.item())\n",
    "        train_accs.append(acc)\n",
    "        \n",
    "    train_loss = sum(train_loss) / len(train_loss)\n",
    "    train_acc = sum(train_accs) / len(train_accs)\n",
    "\n",
    "    # Print the information.\n",
    "    writer.add_scalar('Loss/train', train_loss, epoch) \n",
    "    writer.add_scalar('Accuracy/train', train_acc, epoch)\n"
   ]
  },
  {
   "cell_type": "code",
   "execution_count": null,
   "id": "c7cde40bd30f4ad2",
   "metadata": {
    "ExecuteTime": {
     "end_time": "2024-10-06T14:47:10.420014Z",
     "start_time": "2024-10-06T14:47:10.407870Z"
    }
   },
   "outputs": [
    {
     "name": "stdout",
     "output_type": "stream",
     "text": [
      "Using device: cuda\n"
     ]
    }
   ],
   "source": [
    "print(\"Using device:\", device)"
   ]
  },
  {
   "cell_type": "code",
   "execution_count": null,
   "id": "bbfddd608958fc79",
   "metadata": {
    "ExecuteTime": {
     "end_time": "2024-10-06T14:47:10.435209Z",
     "start_time": "2024-10-06T14:47:10.422014Z"
    }
   },
   "outputs": [],
   "source": []
  }
 ],
 "metadata": {
  "kernelspec": {
   "display_name": "hf",
   "language": "python",
   "name": "python3"
  },
  "language_info": {
   "codemirror_mode": {
    "name": "ipython",
    "version": 3
   },
   "file_extension": ".py",
   "mimetype": "text/x-python",
   "name": "python",
   "nbconvert_exporter": "python",
   "pygments_lexer": "ipython3",
   "version": "3.10.8"
  }
 },
 "nbformat": 4,
 "nbformat_minor": 5
}
